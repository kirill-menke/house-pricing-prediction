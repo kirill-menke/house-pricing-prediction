{
 "cells": [
  {
   "cell_type": "code",
   "execution_count": 1,
   "metadata": {},
   "outputs": [],
   "source": [
    "import numpy as np\n",
    "import pandas as pd\n",
    "import matplotlib.pyplot as plt\n",
    "import seaborn as sns\n",
    "\n",
    "seed = np.random.seed(0)\n"
   ]
  },
  {
   "cell_type": "code",
   "execution_count": 2,
   "metadata": {},
   "outputs": [],
   "source": [
    "train_data_apartments = pd.read_csv(\"data/apartments_train.csv\")\n",
    "train_data_buildings = pd.read_csv(\"data/buildings_train.csv\")\n",
    "\n",
    "train_data = pd.merge(train_data_apartments, train_data_buildings.set_index('id'), how='left', left_on='building_id', right_index=True)\n",
    "num_of_training_samples = train_data.shape[0]\n",
    "\n",
    "\n",
    "y_train = (np.asarray(train_data.price))\n",
    "\n",
    "\n",
    "\n",
    "train_data = train_data.drop(\"price\", axis = 1)\n",
    "\n",
    "\n",
    "test_data_apartments = pd.read_csv(\"data/apartments_test.csv\")\n",
    "test_data_buildings = pd.read_csv(\"data/buildings_test.csv\")\n",
    "\n",
    "test_data = pd.merge(test_data_apartments, test_data_buildings.set_index('id'), how='left', left_on='building_id', right_index=True)\n",
    "test_ids = test_data.id\n",
    "\n",
    "all_data = pd.concat([train_data, test_data])\n",
    "\n",
    "\n",
    "\n"
   ]
  },
  {
   "cell_type": "code",
   "execution_count": 3,
   "metadata": {},
   "outputs": [],
   "source": [
    "def euclid_dist_from_center(lat, long):\n",
    "    lat_city_center = 55.75\n",
    "    long_city_center = 37.6\n",
    "\n",
    "    return np.sqrt(np.power(np.abs(lat_city_center - lat), 2) + np.power(np.abs(long_city_center - long), 2))"
   ]
  },
  {
   "cell_type": "code",
   "execution_count": 4,
   "metadata": {},
   "outputs": [
    {
     "name": "stderr",
     "output_type": "stream",
     "text": [
      "C:\\Users\\Moritz\\AppData\\Local\\Programs\\Python\\Python37\\lib\\site-packages\\ipykernel_launcher.py:3: SettingWithCopyWarning: \n",
      "A value is trying to be set on a copy of a slice from a DataFrame\n",
      "\n",
      "See the caveats in the documentation: https://pandas.pydata.org/pandas-docs/stable/user_guide/indexing.html#returning-a-view-versus-a-copy\n",
      "  This is separate from the ipykernel package so we can avoid doing imports until\n",
      "C:\\Users\\Moritz\\AppData\\Local\\Programs\\Python\\Python37\\lib\\site-packages\\ipykernel_launcher.py:4: SettingWithCopyWarning: \n",
      "A value is trying to be set on a copy of a slice from a DataFrame\n",
      "\n",
      "See the caveats in the documentation: https://pandas.pydata.org/pandas-docs/stable/user_guide/indexing.html#returning-a-view-versus-a-copy\n",
      "  after removing the cwd from sys.path.\n"
     ]
    }
   ],
   "source": [
    "# combining street and address to identify builidngs\n",
    "#print(len(all_data.loc[(all_data.ceiling > 7) & (all_data.ceiling < 25)])) # weirdly out of scale ceilings\n",
    "all_data.ceiling[all_data.ceiling > 200] = all_data.ceiling/100\n",
    "all_data.ceiling[(all_data.ceiling > 25) & (all_data.ceiling < 200)] = all_data.ceiling/10\n",
    "\n",
    "\n"
   ]
  },
  {
   "cell_type": "code",
   "execution_count": 5,
   "metadata": {},
   "outputs": [
    {
     "name": "stderr",
     "output_type": "stream",
     "text": [
      "C:\\Users\\Moritz\\AppData\\Local\\Programs\\Python\\Python37\\lib\\site-packages\\ipykernel_launcher.py:14: SettingWithCopyWarning: \n",
      "A value is trying to be set on a copy of a slice from a DataFrame\n",
      "\n",
      "See the caveats in the documentation: https://pandas.pydata.org/pandas-docs/stable/user_guide/indexing.html#returning-a-view-versus-a-copy\n",
      "  \n",
      "C:\\Users\\Moritz\\AppData\\Local\\Programs\\Python\\Python37\\lib\\site-packages\\ipykernel_launcher.py:15: SettingWithCopyWarning: \n",
      "A value is trying to be set on a copy of a slice from a DataFrame\n",
      "\n",
      "See the caveats in the documentation: https://pandas.pydata.org/pandas-docs/stable/user_guide/indexing.html#returning-a-view-versus-a-copy\n",
      "  from ipykernel import kernelapp as app\n",
      "C:\\Users\\Moritz\\AppData\\Local\\Programs\\Python\\Python37\\lib\\site-packages\\ipykernel_launcher.py:16: SettingWithCopyWarning: \n",
      "A value is trying to be set on a copy of a slice from a DataFrame\n",
      "\n",
      "See the caveats in the documentation: https://pandas.pydata.org/pandas-docs/stable/user_guide/indexing.html#returning-a-view-versus-a-copy\n",
      "  app.launch_new_instance()\n",
      "C:\\Users\\Moritz\\AppData\\Local\\Programs\\Python\\Python37\\lib\\site-packages\\ipykernel_launcher.py:17: SettingWithCopyWarning: \n",
      "A value is trying to be set on a copy of a slice from a DataFrame\n",
      "\n",
      "See the caveats in the documentation: https://pandas.pydata.org/pandas-docs/stable/user_guide/indexing.html#returning-a-view-versus-a-copy\n",
      "C:\\Users\\Moritz\\AppData\\Local\\Programs\\Python\\Python37\\lib\\site-packages\\ipykernel_launcher.py:18: SettingWithCopyWarning: \n",
      "A value is trying to be set on a copy of a slice from a DataFrame\n",
      "\n",
      "See the caveats in the documentation: https://pandas.pydata.org/pandas-docs/stable/user_guide/indexing.html#returning-a-view-versus-a-copy\n",
      "C:\\Users\\Moritz\\AppData\\Local\\Programs\\Python\\Python37\\lib\\site-packages\\ipykernel_launcher.py:19: SettingWithCopyWarning: \n",
      "A value is trying to be set on a copy of a slice from a DataFrame\n",
      "\n",
      "See the caveats in the documentation: https://pandas.pydata.org/pandas-docs/stable/user_guide/indexing.html#returning-a-view-versus-a-copy\n",
      "C:\\Users\\Moritz\\AppData\\Local\\Programs\\Python\\Python37\\lib\\site-packages\\ipykernel_launcher.py:20: SettingWithCopyWarning: \n",
      "A value is trying to be set on a copy of a slice from a DataFrame\n",
      "\n",
      "See the caveats in the documentation: https://pandas.pydata.org/pandas-docs/stable/user_guide/indexing.html#returning-a-view-versus-a-copy\n",
      "C:\\Users\\Moritz\\AppData\\Local\\Programs\\Python\\Python37\\lib\\site-packages\\ipykernel_launcher.py:21: SettingWithCopyWarning: \n",
      "A value is trying to be set on a copy of a slice from a DataFrame\n",
      "\n",
      "See the caveats in the documentation: https://pandas.pydata.org/pandas-docs/stable/user_guide/indexing.html#returning-a-view-versus-a-copy\n",
      "C:\\Users\\Moritz\\AppData\\Local\\Programs\\Python\\Python37\\lib\\site-packages\\ipykernel_launcher.py:22: SettingWithCopyWarning: \n",
      "A value is trying to be set on a copy of a slice from a DataFrame\n",
      "\n",
      "See the caveats in the documentation: https://pandas.pydata.org/pandas-docs/stable/user_guide/indexing.html#returning-a-view-versus-a-copy\n",
      "C:\\Users\\Moritz\\AppData\\Local\\Programs\\Python\\Python37\\lib\\site-packages\\ipykernel_launcher.py:23: SettingWithCopyWarning: \n",
      "A value is trying to be set on a copy of a slice from a DataFrame\n",
      "\n",
      "See the caveats in the documentation: https://pandas.pydata.org/pandas-docs/stable/user_guide/indexing.html#returning-a-view-versus-a-copy\n"
     ]
    },
    {
     "name": "stdout",
     "output_type": "stream",
     "text": [
      "Empty DataFrame\n",
      "Columns: [id, seller, area_total, area_kitchen, area_living, floor, rooms, layout, ceiling, bathrooms_shared, bathrooms_private, windows_court, windows_street, balconies, loggias, condition, phones, building_id, new, latitude, longitude, district, street, address, constructed, material, stories, elevator_without, elevator_passenger, elevator_service, parking, garbage_chute, heating, street_and_address, bathrooms, dist_from_city_center, balconies_and_loggias, no_windows]\n",
      "Index: []\n",
      "\n",
      "[0 rows x 38 columns]\n"
     ]
    }
   ],
   "source": [
    "all_data[\"street_and_address\"] = all_data.street + \" \" + all_data.address\n",
    "all_data[\"bathrooms\"] = all_data.bathrooms_shared  + all_data.bathrooms_private\n",
    "all_data[\"dist_from_city_center\"] = euclid_dist_from_center(all_data.latitude, all_data.longitude)\n",
    "#plt.scatter(np.log(y_train), all_data.dist_from_city_center[0:23285], s = 0.1)\n",
    "all_data[\"balconies_and_loggias\"] = all_data.balconies + all_data.loggias\n",
    "all_data[\"no_windows\"] = (~((np.asarray(all_data.windows_court)==1) | (np.asarray(all_data.windows_street)==1))).astype(int)\n",
    "\n",
    "#print(all_data[all_data.dist_from_city_center > 1])\n",
    "\n",
    "#Бунинские Луга ЖК к2/2/1 = Ulitsa Aleksandry Monakhovoy, 97, coordinates: 55.5415152,37.4821752\n",
    "# улица 1-я Линия 57, coordinates: 55.6324711, 37.4536057\n",
    "#улица Центральная 75 and 48, ESTIMATED coordinates: 55.750651,37.6083208\n",
    "\n",
    "all_data.latitude[all_data.street_and_address == \"Бунинские Луга ЖК к2/2/1\"] = 55.5415152\n",
    "all_data.longitude[all_data.street_and_address == \"Бунинские Луга ЖК к2/2/1\"] = 37.4821752\n",
    "all_data.latitude[all_data.street_and_address == \"Бунинские Луга ЖК к2/2/2\"] = 55.5415152\n",
    "all_data.longitude[all_data.street_and_address == \"Бунинские Луга ЖК к2/2/2\"] = 37.4821752\n",
    "all_data.latitude[all_data.street_and_address == \"улица 1-я Линия 57\"] = 55.6324711\n",
    "all_data.longitude[all_data.street_and_address == \"улица 1-я Линия 57\"] = 37.4536057\n",
    "all_data.latitude[all_data.street_and_address == \"улица Центральная 75\"] = 55.5415152\n",
    "all_data.longitude[all_data.street_and_address == \"улица Центральная 75\"] = 37.4821752\n",
    "all_data.latitude[all_data.street_and_address == \"улица Центральная 48\"] = 55.5415152\n",
    "all_data.longitude[all_data.street_and_address == \"улица Центральная 48\"] = 37.4821752\n",
    "\n",
    "all_data[\"dist_from_city_center\"] = euclid_dist_from_center(all_data.latitude, all_data.longitude)\n",
    "print((all_data[all_data.dist_from_city_center > 1]))\n",
    "\n",
    "\n",
    "#all_data = all_data.drop([\"bathrooms_shared\", \"bathrooms_private\", \"balconies\", \"loggias\", \"area_kitchen\", \"area_living\", \"id\"], axis = 1)\n",
    "\n",
    "all_data = all_data.drop([\"address\", \"bathrooms_shared\", \"bathrooms_private\", \"balconies\", \"loggias\", \"id\",\n",
    "\"windows_court\", \"windows_street\"], axis = 1)"
   ]
  },
  {
   "cell_type": "code",
   "execution_count": 6,
   "metadata": {},
   "outputs": [
    {
     "name": "stdout",
     "output_type": "stream",
     "text": [
      "[   0    1    2 ... 9719 9720 9721]\n",
      "23\n",
      "85\n"
     ]
    },
    {
     "name": "stderr",
     "output_type": "stream",
     "text": [
      "C:\\Users\\Moritz\\AppData\\Local\\Programs\\Python\\Python37\\lib\\site-packages\\ipykernel_launcher.py:32: SettingWithCopyWarning: \n",
      "A value is trying to be set on a copy of a slice from a DataFrame\n",
      "\n",
      "See the caveats in the documentation: https://pandas.pydata.org/pandas-docs/stable/user_guide/indexing.html#returning-a-view-versus-a-copy\n"
     ]
    }
   ],
   "source": [
    "import category_encoders as ce\n",
    "from sklearn.impute import SimpleImputer\n",
    "from sklearn.experimental import enable_iterative_imputer\n",
    "from sklearn.impute import IterativeImputer\n",
    "from sklearn.preprocessing import StandardScaler\n",
    "from sklearn.preprocessing import LabelEncoder\n",
    "\n",
    "categorical_columns = [\"seller\", \"layout\", \"condition\", \"district\", \"material\", \"parking\", \"heating\", \"street_and_address\"]\n",
    "boolean_columns = [\"new\", \"elevator_without\", \"elevator_passenger\", \"elevator_service\", \"garbage_chute\"]\n",
    "categorical_and_boolean_columns = [\"seller\", \"layout\", \"condition\", \"district\", \"material\", \"parking\", \"heating\", \"street_and_address\"]\n",
    "numerical_columns = [\"area_total\", \"area_living\", \"area_kitchen\", \"floor\", \"rooms\", \"ceiling\", \"phones\", \"bathrooms\", \"balconies_and_loggias\", \"dist_from_city_center\", \"constructed\", \"stories\", \"latitude\", \"longitude\"]\n",
    "numerical_and_categorical_columns = [\"area_total\", \"area_living\", \"area_kitchen\", \"floor\", \"rooms\", \"ceiling\", \"phones\", \"bathrooms\", \"balconies_and_loggias\", \"dist_from_city_center\", \"constructed\", \"stories\", \"seller\", \"layout\", \"condition\", \"building_id\", \"district\", \"material\", \"parking\", \"heating\", \"street_and_address\", \"latitude\", \"longitude\"]\n",
    "\n",
    "boolean_imputer = SimpleImputer(missing_values = np.nan, strategy = \"most_frequent\")\n",
    "all_data[boolean_columns] = boolean_imputer.fit_transform(all_data[boolean_columns])\n",
    "\n",
    "string_encoder = LabelEncoder()\n",
    "all_data[\"street_and_address\"] = string_encoder.fit_transform(all_data.street_and_address)\n",
    "print(np.unique(all_data.street_and_address))\n",
    "\n",
    "all_data[\"street\"] = string_encoder.fit_transform(all_data.street)\n",
    "\n",
    "\n",
    "categorical_imputer = SimpleImputer(missing_values = np.nan, strategy = \"most_frequent\")\n",
    "all_data[categorical_columns] = boolean_imputer.fit_transform(all_data[categorical_columns])\n",
    "\n",
    "numerical_imputer = IterativeImputer(missing_values = np.nan, random_state = 0)\n",
    "all_data[numerical_columns] = numerical_imputer.fit_transform(all_data[numerical_columns])\n",
    "\n",
    "print(len(test_data[test_data.ceiling < 1]))#!!!\n",
    "print(len(train_data[train_data.ceiling < 1]))#!!!\n",
    "all_data.ceiling[all_data.ceiling < 1] = np.mean(all_data.ceiling[all_data.ceiling > 1])\n",
    "\n",
    "all_data = all_data.drop([\"garbage_chute\", \"heating\", \"phones\", \"elevator_service\", \"elevator_passenger\", \"new\", \"layout\", \"elevator_without\", \"no_windows\"], axis = 1)\n",
    "\n",
    "#print(np.sum(np.isnan(all_data)))"
   ]
  },
  {
   "cell_type": "code",
   "execution_count": 7,
   "metadata": {},
   "outputs": [
    {
     "name": "stdout",
     "output_type": "stream",
     "text": [
      "23285\n"
     ]
    },
    {
     "name": "stderr",
     "output_type": "stream",
     "text": [
      "C:\\Users\\Moritz\\AppData\\Local\\Programs\\Python\\Python37\\lib\\site-packages\\ipykernel_launcher.py:19: SettingWithCopyWarning: \n",
      "A value is trying to be set on a copy of a slice from a DataFrame.\n",
      "Try using .loc[row_indexer,col_indexer] = value instead\n",
      "\n",
      "See the caveats in the documentation: https://pandas.pydata.org/pandas-docs/stable/user_guide/indexing.html#returning-a-view-versus-a-copy\n",
      "C:\\Users\\Moritz\\AppData\\Local\\Programs\\Python\\Python37\\lib\\site-packages\\ipykernel_launcher.py:25: SettingWithCopyWarning: \n",
      "A value is trying to be set on a copy of a slice from a DataFrame.\n",
      "Try using .loc[row_indexer,col_indexer] = value instead\n",
      "\n",
      "See the caveats in the documentation: https://pandas.pydata.org/pandas-docs/stable/user_guide/indexing.html#returning-a-view-versus-a-copy\n",
      "C:\\Users\\Moritz\\AppData\\Local\\Programs\\Python\\Python37\\lib\\site-packages\\ipykernel_launcher.py:26: SettingWithCopyWarning: \n",
      "A value is trying to be set on a copy of a slice from a DataFrame.\n",
      "Try using .loc[row_indexer,col_indexer] = value instead\n",
      "\n",
      "See the caveats in the documentation: https://pandas.pydata.org/pandas-docs/stable/user_guide/indexing.html#returning-a-view-versus-a-copy\n",
      "C:\\Users\\Moritz\\AppData\\Local\\Programs\\Python\\Python37\\lib\\site-packages\\pandas\\core\\indexing.py:1637: SettingWithCopyWarning: \n",
      "A value is trying to be set on a copy of a slice from a DataFrame\n",
      "\n",
      "See the caveats in the documentation: https://pandas.pydata.org/pandas-docs/stable/user_guide/indexing.html#returning-a-view-versus-a-copy\n",
      "  self._setitem_single_block(indexer, value, name)\n"
     ]
    },
    {
     "name": "stdout",
     "output_type": "stream",
     "text": [
      "CategoricalIndex([(0.001215, 0.01056],  (0.01056, 0.01457],\n",
      "                   (0.01457, 0.01888],   (0.01888, 0.0226],\n",
      "                    (0.0226, 0.02525],  (0.02525, 0.02906],\n",
      "                   (0.02906, 0.03249],  (0.03249, 0.03531],\n",
      "                   (0.03531, 0.03652],  (0.03652, 0.03855]],\n",
      "                 categories=[(0.001215, 0.01056], (0.01056, 0.01457], (0.01457, 0.01888], (0.01888, 0.0226], (0.0226, 0.02525], (0.02525, 0.02906], (0.02906, 0.03249], (0.03249, 0.03531], ...], ordered=True, name='price_per_sq_dist_cat', dtype='category')\n"
     ]
    },
    {
     "name": "stderr",
     "output_type": "stream",
     "text": [
      "C:\\Users\\Moritz\\AppData\\Local\\Programs\\Python\\Python37\\lib\\site-packages\\pandas\\core\\indexing.py:1637: SettingWithCopyWarning: \n",
      "A value is trying to be set on a copy of a slice from a DataFrame\n",
      "\n",
      "See the caveats in the documentation: https://pandas.pydata.org/pandas-docs/stable/user_guide/indexing.html#returning-a-view-versus-a-copy\n",
      "  self._setitem_single_block(indexer, value, name)\n",
      "C:\\Users\\Moritz\\AppData\\Local\\Programs\\Python\\Python37\\lib\\site-packages\\pandas\\core\\indexing.py:1637: SettingWithCopyWarning: \n",
      "A value is trying to be set on a copy of a slice from a DataFrame\n",
      "\n",
      "See the caveats in the documentation: https://pandas.pydata.org/pandas-docs/stable/user_guide/indexing.html#returning-a-view-versus-a-copy\n",
      "  self._setitem_single_block(indexer, value, name)\n",
      "C:\\Users\\Moritz\\AppData\\Local\\Programs\\Python\\Python37\\lib\\site-packages\\pandas\\core\\indexing.py:1637: SettingWithCopyWarning: \n",
      "A value is trying to be set on a copy of a slice from a DataFrame\n",
      "\n",
      "See the caveats in the documentation: https://pandas.pydata.org/pandas-docs/stable/user_guide/indexing.html#returning-a-view-versus-a-copy\n",
      "  self._setitem_single_block(indexer, value, name)\n",
      "C:\\Users\\Moritz\\AppData\\Local\\Programs\\Python\\Python37\\lib\\site-packages\\pandas\\core\\indexing.py:1637: SettingWithCopyWarning: \n",
      "A value is trying to be set on a copy of a slice from a DataFrame\n",
      "\n",
      "See the caveats in the documentation: https://pandas.pydata.org/pandas-docs/stable/user_guide/indexing.html#returning-a-view-versus-a-copy\n",
      "  self._setitem_single_block(indexer, value, name)\n",
      "C:\\Users\\Moritz\\AppData\\Local\\Programs\\Python\\Python37\\lib\\site-packages\\pandas\\core\\indexing.py:1637: SettingWithCopyWarning: \n",
      "A value is trying to be set on a copy of a slice from a DataFrame\n",
      "\n",
      "See the caveats in the documentation: https://pandas.pydata.org/pandas-docs/stable/user_guide/indexing.html#returning-a-view-versus-a-copy\n",
      "  self._setitem_single_block(indexer, value, name)\n",
      "C:\\Users\\Moritz\\AppData\\Local\\Programs\\Python\\Python37\\lib\\site-packages\\pandas\\core\\indexing.py:1637: SettingWithCopyWarning: \n",
      "A value is trying to be set on a copy of a slice from a DataFrame\n",
      "\n",
      "See the caveats in the documentation: https://pandas.pydata.org/pandas-docs/stable/user_guide/indexing.html#returning-a-view-versus-a-copy\n",
      "  self._setitem_single_block(indexer, value, name)\n",
      "C:\\Users\\Moritz\\AppData\\Local\\Programs\\Python\\Python37\\lib\\site-packages\\pandas\\core\\indexing.py:1637: SettingWithCopyWarning: \n",
      "A value is trying to be set on a copy of a slice from a DataFrame\n",
      "\n",
      "See the caveats in the documentation: https://pandas.pydata.org/pandas-docs/stable/user_guide/indexing.html#returning-a-view-versus-a-copy\n",
      "  self._setitem_single_block(indexer, value, name)\n",
      "C:\\Users\\Moritz\\AppData\\Local\\Programs\\Python\\Python37\\lib\\site-packages\\pandas\\core\\indexing.py:1637: SettingWithCopyWarning: \n",
      "A value is trying to be set on a copy of a slice from a DataFrame\n",
      "\n",
      "See the caveats in the documentation: https://pandas.pydata.org/pandas-docs/stable/user_guide/indexing.html#returning-a-view-versus-a-copy\n",
      "  self._setitem_single_block(indexer, value, name)\n",
      "C:\\Users\\Moritz\\AppData\\Local\\Programs\\Python\\Python37\\lib\\site-packages\\pandas\\core\\indexing.py:1637: SettingWithCopyWarning: \n",
      "A value is trying to be set on a copy of a slice from a DataFrame\n",
      "\n",
      "See the caveats in the documentation: https://pandas.pydata.org/pandas-docs/stable/user_guide/indexing.html#returning-a-view-versus-a-copy\n",
      "  self._setitem_single_block(indexer, value, name)\n",
      "C:\\Users\\Moritz\\AppData\\Local\\Programs\\Python\\Python37\\lib\\site-packages\\pandas\\core\\indexing.py:1637: SettingWithCopyWarning: \n",
      "A value is trying to be set on a copy of a slice from a DataFrame\n",
      "\n",
      "See the caveats in the documentation: https://pandas.pydata.org/pandas-docs/stable/user_guide/indexing.html#returning-a-view-versus-a-copy\n",
      "  self._setitem_single_block(indexer, value, name)\n",
      "C:\\Users\\Moritz\\AppData\\Local\\Programs\\Python\\Python37\\lib\\site-packages\\pandas\\core\\indexing.py:1637: SettingWithCopyWarning: \n",
      "A value is trying to be set on a copy of a slice from a DataFrame\n",
      "\n",
      "See the caveats in the documentation: https://pandas.pydata.org/pandas-docs/stable/user_guide/indexing.html#returning-a-view-versus-a-copy\n",
      "  self._setitem_single_block(indexer, value, name)\n",
      "C:\\Users\\Moritz\\AppData\\Local\\Programs\\Python\\Python37\\lib\\site-packages\\pandas\\core\\indexing.py:1637: SettingWithCopyWarning: \n",
      "A value is trying to be set on a copy of a slice from a DataFrame\n",
      "\n",
      "See the caveats in the documentation: https://pandas.pydata.org/pandas-docs/stable/user_guide/indexing.html#returning-a-view-versus-a-copy\n",
      "  self._setitem_single_block(indexer, value, name)\n",
      "C:\\Users\\Moritz\\AppData\\Local\\Programs\\Python\\Python37\\lib\\site-packages\\pandas\\core\\indexing.py:1637: SettingWithCopyWarning: \n",
      "A value is trying to be set on a copy of a slice from a DataFrame\n",
      "\n",
      "See the caveats in the documentation: https://pandas.pydata.org/pandas-docs/stable/user_guide/indexing.html#returning-a-view-versus-a-copy\n",
      "  self._setitem_single_block(indexer, value, name)\n",
      "C:\\Users\\Moritz\\AppData\\Local\\Programs\\Python\\Python37\\lib\\site-packages\\pandas\\core\\indexing.py:1637: SettingWithCopyWarning: \n",
      "A value is trying to be set on a copy of a slice from a DataFrame\n",
      "\n",
      "See the caveats in the documentation: https://pandas.pydata.org/pandas-docs/stable/user_guide/indexing.html#returning-a-view-versus-a-copy\n",
      "  self._setitem_single_block(indexer, value, name)\n",
      "C:\\Users\\Moritz\\AppData\\Local\\Programs\\Python\\Python37\\lib\\site-packages\\pandas\\core\\indexing.py:1637: SettingWithCopyWarning: \n",
      "A value is trying to be set on a copy of a slice from a DataFrame\n",
      "\n",
      "See the caveats in the documentation: https://pandas.pydata.org/pandas-docs/stable/user_guide/indexing.html#returning-a-view-versus-a-copy\n",
      "  self._setitem_single_block(indexer, value, name)\n",
      "C:\\Users\\Moritz\\AppData\\Local\\Programs\\Python\\Python37\\lib\\site-packages\\pandas\\core\\indexing.py:1637: SettingWithCopyWarning: \n",
      "A value is trying to be set on a copy of a slice from a DataFrame\n",
      "\n",
      "See the caveats in the documentation: https://pandas.pydata.org/pandas-docs/stable/user_guide/indexing.html#returning-a-view-versus-a-copy\n",
      "  self._setitem_single_block(indexer, value, name)\n",
      "C:\\Users\\Moritz\\AppData\\Local\\Programs\\Python\\Python37\\lib\\site-packages\\pandas\\core\\indexing.py:1637: SettingWithCopyWarning: \n",
      "A value is trying to be set on a copy of a slice from a DataFrame\n",
      "\n",
      "See the caveats in the documentation: https://pandas.pydata.org/pandas-docs/stable/user_guide/indexing.html#returning-a-view-versus-a-copy\n",
      "  self._setitem_single_block(indexer, value, name)\n",
      "C:\\Users\\Moritz\\AppData\\Local\\Programs\\Python\\Python37\\lib\\site-packages\\pandas\\core\\indexing.py:1637: SettingWithCopyWarning: \n",
      "A value is trying to be set on a copy of a slice from a DataFrame\n",
      "\n",
      "See the caveats in the documentation: https://pandas.pydata.org/pandas-docs/stable/user_guide/indexing.html#returning-a-view-versus-a-copy\n",
      "  self._setitem_single_block(indexer, value, name)\n",
      "C:\\Users\\Moritz\\AppData\\Local\\Programs\\Python\\Python37\\lib\\site-packages\\pandas\\core\\indexing.py:1637: SettingWithCopyWarning: \n",
      "A value is trying to be set on a copy of a slice from a DataFrame\n",
      "\n",
      "See the caveats in the documentation: https://pandas.pydata.org/pandas-docs/stable/user_guide/indexing.html#returning-a-view-versus-a-copy\n",
      "  self._setitem_single_block(indexer, value, name)\n",
      "C:\\Users\\Moritz\\AppData\\Local\\Programs\\Python\\Python37\\lib\\site-packages\\pandas\\core\\indexing.py:1637: SettingWithCopyWarning: \n",
      "A value is trying to be set on a copy of a slice from a DataFrame\n",
      "\n",
      "See the caveats in the documentation: https://pandas.pydata.org/pandas-docs/stable/user_guide/indexing.html#returning-a-view-versus-a-copy\n",
      "  self._setitem_single_block(indexer, value, name)\n",
      "C:\\Users\\Moritz\\AppData\\Local\\Programs\\Python\\Python37\\lib\\site-packages\\pandas\\core\\indexing.py:1637: SettingWithCopyWarning: \n",
      "A value is trying to be set on a copy of a slice from a DataFrame\n",
      "\n",
      "See the caveats in the documentation: https://pandas.pydata.org/pandas-docs/stable/user_guide/indexing.html#returning-a-view-versus-a-copy\n",
      "  self._setitem_single_block(indexer, value, name)\n",
      "C:\\Users\\Moritz\\AppData\\Local\\Programs\\Python\\Python37\\lib\\site-packages\\pandas\\core\\indexing.py:1637: SettingWithCopyWarning: \n",
      "A value is trying to be set on a copy of a slice from a DataFrame\n",
      "\n",
      "See the caveats in the documentation: https://pandas.pydata.org/pandas-docs/stable/user_guide/indexing.html#returning-a-view-versus-a-copy\n",
      "  self._setitem_single_block(indexer, value, name)\n",
      "C:\\Users\\Moritz\\AppData\\Local\\Programs\\Python\\Python37\\lib\\site-packages\\pandas\\core\\indexing.py:1637: SettingWithCopyWarning: \n",
      "A value is trying to be set on a copy of a slice from a DataFrame\n",
      "\n",
      "See the caveats in the documentation: https://pandas.pydata.org/pandas-docs/stable/user_guide/indexing.html#returning-a-view-versus-a-copy\n",
      "  self._setitem_single_block(indexer, value, name)\n"
     ]
    }
   ],
   "source": [
    "\n",
    "#all_data.area_total = np.log1p(all_data.area_total)\n",
    "#all_data.area_living = np.log1p(all_data.area_living)\n",
    "#all_data.area_kitchen = np.log1p(all_data.area_kitchen)\n",
    "\n",
    "all_data[\"relative_story\"] = all_data.floor/all_data.stories\n",
    "\n",
    "train_data = all_data[0:num_of_training_samples]\n",
    "test_data = all_data[num_of_training_samples:len(all_data)]\n",
    "\n",
    "#print(len(set([1,0])-set([1,0])))\n",
    "\n",
    "#print(len(set(train_data.street)-set(test_data.street)))\n",
    "\n",
    "train_data.is_copy = False\n",
    "test_data.is_copy = False\n",
    "\n",
    "print(len(y_train))\n",
    "\n",
    "train_data[\"price\"] = y_train.copy()\n",
    "price_per_district = train_data.groupby(\"district\").mean().price\n",
    "area_per_district = train_data.groupby(\"district\").mean().area_total\n",
    "price_per_street = train_data.groupby(\"street\").mean().price\n",
    "area_per_street = train_data.groupby(\"street\").mean().area_total\n",
    "\n",
    "train_data[\"price_per_sq_dist_cat\"], bins = pd.qcut(train_data.dist_from_city_center, q = 150, retbins = True)\n",
    "test_data[\"price_per_sq_dist_cat\"] = pd.cut(test_data.dist_from_city_center, bins = bins)\n",
    "\n",
    "\n",
    "price_per_dist = train_data.groupby(\"price_per_sq_dist_cat\").mean().price\n",
    "area_per_dist = train_data.groupby(\"price_per_sq_dist_cat\").mean().area_total\n",
    "\n",
    "a = np.log(price_per_district/area_per_district)\n",
    "b = np.log(price_per_dist/area_per_dist)\n",
    "c = np.log(price_per_street/area_per_street)\n",
    "\n",
    "print(b.index[0:10])\n",
    "#print(c)\n",
    "\n",
    "train_data = pd.concat([train_data, pd.DataFrame(columns = [\"price_per_ring\"])], axis = 1)\n",
    "test_data = pd.concat([test_data, pd.DataFrame(columns = [\"price_per_ring\"])], axis = 1)\n",
    "\n",
    "#print(train_data.head(2))\n",
    "#print(test_data.head(2))\n",
    "\n",
    "for i in range(0, len(a.values)):\n",
    "    train_data[\"district\"].loc[train_data.district == i] = a[i].copy()\n",
    "    test_data[\"district\"].loc[test_data.district == i] = a[i].copy()\n",
    "\n",
    "train_data[\"price_per_ring\"] = train_data[\"price_per_sq_dist_cat\"].map(b).astype(float)\n",
    "test_data[\"price_per_ring\"] = test_data[\"price_per_sq_dist_cat\"].map(b).astype(float)\n",
    "\n",
    "#train_data[\"street\"] = train_data[\"street\"].map(c).astype(float)\n",
    "#test_data[\"street\"] = test_data[\"street\"].map(c).astype(float)\n",
    "\n",
    "#train_data = train_data.drop([\"price\"], axis = 1)\n",
    "train_data = train_data.drop([\"latitude\", \"longitude\", \"street\", \"price_per_sq_dist_cat\"], axis = 1)\n",
    "test_data = test_data.drop([\"latitude\", \"longitude\", \"street\", \"price_per_sq_dist_cat\"], axis = 1)\n",
    "\n",
    "street_imputer = IterativeImputer(missing_values = np.nan, random_state = 0)\n",
    "#street_imputer.fit(pd.concat([train_data, test_data], axis = 0))\n",
    "#print(\"alskfm\", np.sum(np.sum(np.isnan(test_data))))\n",
    "#test_data = street_imputer.transform(test_data)\n",
    "#print(\"aojfn\", np.sum(np.sum(np.isnan(test_data))))\n",
    "\n",
    "\n",
    "\n",
    "#print(train_data.head(2))\n",
    "#print(test_data.head(2))\n"
   ]
  },
  {
   "cell_type": "code",
   "execution_count": 8,
   "metadata": {},
   "outputs": [
    {
     "data": {
      "text/plain": [
       "(array([6256., 8861., 4413., 1484.,  709.,  630.,  619.,  158.,    0.,\n",
       "         155.]),\n",
       " array([  84100.23880492,  178853.85176617,  273607.46472743,\n",
       "         368361.07768868,  463114.69064994,  557868.30361119,\n",
       "         652621.91657245,  747375.5295337 ,  842129.14249496,\n",
       "         936882.75545622, 1031636.36841747]),\n",
       " <BarContainer object of 10 artists>)"
      ]
     },
     "execution_count": 8,
     "metadata": {},
     "output_type": "execute_result"
    },
    {
     "data": {
      "image/png": "[encoded data removed]",
      "text/plain": [
       "<Figure size 432x288 with 1 Axes>"
      ]
     },
     "metadata": {
      "needs_background": "light"
     },
     "output_type": "display_data"
    }
   ],
   "source": [
    "plt.hist(np.exp(train_data.price_per_ring))"
   ]
  },
  {
   "cell_type": "code",
   "execution_count": 9,
   "metadata": {},
   "outputs": [
    {
     "name": "stdout",
     "output_type": "stream",
     "text": [
      "0\n"
     ]
    },
    {
     "name": "stderr",
     "output_type": "stream",
     "text": [
      "C:\\Users\\Moritz\\AppData\\Local\\Programs\\Python\\Python37\\lib\\site-packages\\ipykernel_launcher.py:4: SettingWithCopyWarning: \n",
      "A value is trying to be set on a copy of a slice from a DataFrame\n",
      "\n",
      "See the caveats in the documentation: https://pandas.pydata.org/pandas-docs/stable/user_guide/indexing.html#returning-a-view-versus-a-copy\n",
      "  after removing the cwd from sys.path.\n",
      "C:\\Users\\Moritz\\AppData\\Local\\Programs\\Python\\Python37\\lib\\site-packages\\ipykernel_launcher.py:5: SettingWithCopyWarning: \n",
      "A value is trying to be set on a copy of a slice from a DataFrame\n",
      "\n",
      "See the caveats in the documentation: https://pandas.pydata.org/pandas-docs/stable/user_guide/indexing.html#returning-a-view-versus-a-copy\n",
      "  \"\"\"\n"
     ]
    }
   ],
   "source": [
    "print(len(test_data[test_data.seller == test_data.area_total]))\n",
    "\n",
    "test_data.price_per_ring#print((test_data.loc[np.isnan(test_data.price_per_ring)].loc[test_data.dist_from_city_center < b.index[0].right]).head(3))\n",
    "test_data.price_per_ring[(np.isnan(test_data.price_per_ring)) & (test_data.dist_from_city_center < b.index[0].right)] = b[0]\n",
    "test_data.price_per_ring[(np.isnan(test_data.price_per_ring)) & (test_data.dist_from_city_center > b.index[len(b)-1].left)] = b[len(b)-1]\n",
    "\n",
    "\n",
    "#print(np.sum(np.sum(np.isnan(test_data.price_per_ring))))"
   ]
  },
  {
   "cell_type": "code",
   "execution_count": 10,
   "metadata": {},
   "outputs": [],
   "source": [
    "from tensorflow.keras.losses import mean_squared_logarithmic_error\n",
    "from tensorflow.keras.backend import sqrt\n",
    "\n",
    "def root_mean_squared_log_error(y_true, y_pred):\n",
    "    return sqrt(mean_squared_logarithmic_error(y_true, y_pred))"
   ]
  },
  {
   "cell_type": "code",
   "execution_count": 11,
   "metadata": {},
   "outputs": [],
   "source": [
    "train_data = train_data.sort_values(by = \"price\")\n",
    "x_val = train_data.iloc[::10, :]\n",
    "train_data = train_data.drop(x_val.index)\n",
    "x_train = train_data.sort_index()\n",
    "\n",
    "y_train = x_train.price\n",
    "y_val = x_val.price\n",
    "\n",
    "\n"
   ]
  },
  {
   "cell_type": "code",
   "execution_count": 12,
   "metadata": {},
   "outputs": [
    {
     "data": {
      "image/png": "[encoded data removed]",
      "text/plain": [
       "<Figure size 432x288 with 1 Axes>"
      ]
     },
     "metadata": {
      "needs_background": "light"
     },
     "output_type": "display_data"
    }
   ],
   "source": [
    "a = plt.hist([train_data.area_total, test_data.area_total], 50)"
   ]
  },
  {
   "cell_type": "code",
   "execution_count": 13,
   "metadata": {},
   "outputs": [
    {
     "name": "stderr",
     "output_type": "stream",
     "text": [
      "C:\\Users\\Moritz\\AppData\\Local\\Programs\\Python\\Python37\\lib\\site-packages\\pandas\\core\\arraylike.py:358: RuntimeWarning: invalid value encountered in log\n",
      "  result = getattr(ufunc, method)(*inputs, **kwargs)\n"
     ]
    },
    {
     "data": {
      "image/png": "[encoded data removed]",
      "text/plain": [
       "<Figure size 432x288 with 1 Axes>"
      ]
     },
     "metadata": {
      "needs_background": "light"
     },
     "output_type": "display_data"
    }
   ],
   "source": [
    "a = plt.hist([np.log(train_data.area_kitchen), np.log(test_data.area_kitchen)], 50)"
   ]
  },
  {
   "cell_type": "code",
   "execution_count": 14,
   "metadata": {},
   "outputs": [
    {
     "data": {
      "image/png": "[encoded data removed]",
      "text/plain": [
       "<Figure size 432x288 with 1 Axes>"
      ]
     },
     "metadata": {
      "needs_background": "light"
     },
     "output_type": "display_data"
    }
   ],
   "source": [
    "a = plt.hist([train_data.area_living, test_data.area_living], 50)"
   ]
  },
  {
   "cell_type": "code",
   "execution_count": 15,
   "metadata": {},
   "outputs": [
    {
     "data": {
      "image/png": "[encoded data removed]",
      "text/plain": [
       "<Figure size 432x288 with 1 Axes>"
      ]
     },
     "metadata": {
      "needs_background": "light"
     },
     "output_type": "display_data"
    }
   ],
   "source": [
    "a = plt.hist([np.log(train_data.dist_from_city_center), np.log(test_data.dist_from_city_center)], 50)"
   ]
  },
  {
   "cell_type": "code",
   "execution_count": 16,
   "metadata": {},
   "outputs": [],
   "source": [
    "#a = plt.hist([np.log(train_data.price_per_ring), np.log(test_data.price_per_ring)], 50)\n"
   ]
  },
  {
   "cell_type": "code",
   "execution_count": 17,
   "metadata": {},
   "outputs": [
    {
     "name": "stdout",
     "output_type": "stream",
     "text": [
      "Index(['seller', 'area_total', 'area_kitchen', 'area_living', 'floor', 'rooms',\n",
      "       'ceiling', 'condition', 'building_id', 'district', 'constructed',\n",
      "       'material', 'stories', 'parking', 'street_and_address', 'bathrooms',\n",
      "       'dist_from_city_center', 'balconies_and_loggias', 'relative_story',\n",
      "       'price', 'price_per_ring'],\n",
      "      dtype='object')\n"
     ]
    },
    {
     "data": {
      "text/plain": [
       "{'whiskers': [<matplotlib.lines.Line2D at 0x18f0c068d30>,\n",
       "  <matplotlib.lines.Line2D at 0x18f0c068fd0>],\n",
       " 'caps': [<matplotlib.lines.Line2D at 0x18f0c0762e8>,\n",
       "  <matplotlib.lines.Line2D at 0x18f0c0765c0>],\n",
       " 'boxes': [<matplotlib.lines.Line2D at 0x18f0c0689e8>],\n",
       " 'medians': [<matplotlib.lines.Line2D at 0x18f0c076898>],\n",
       " 'fliers': [<matplotlib.lines.Line2D at 0x18f0c076b70>],\n",
       " 'means': []}"
      ]
     },
     "execution_count": 17,
     "metadata": {},
     "output_type": "execute_result"
    },
    {
     "data": {
      "image/png": "[encoded data removed]",
      "text/plain": [
       "<Figure size 432x288 with 1 Axes>"
      ]
     },
     "metadata": {
      "needs_background": "light"
     },
     "output_type": "display_data"
    }
   ],
   "source": [
    "print(train_data.keys())\n",
    "plt.boxplot(train_data.price)"
   ]
  },
  {
   "cell_type": "code",
   "execution_count": 18,
   "metadata": {},
   "outputs": [
    {
     "name": "stdout",
     "output_type": "stream",
     "text": [
      "Empty DataFrame\n",
      "Columns: [seller, area_total, area_kitchen, area_living, floor, rooms, ceiling, condition, building_id, district, constructed, material, stories, parking, street_and_address, bathrooms, dist_from_city_center, balconies_and_loggias, relative_story, price, price_per_ring]\n",
      "Index: []\n",
      "\n",
      "[0 rows x 21 columns]\n"
     ]
    }
   ],
   "source": [
    "#a = plt.boxplot((test_data.ceiling))\n",
    "#plt.scatter(y_train, train_data.ceiling)\n",
    "#print((test_data.loc[test_data.ceiling > 10]))\n",
    "print((train_data.loc[train_data.ceiling > 10]))"
   ]
  },
  {
   "cell_type": "code",
   "execution_count": 19,
   "metadata": {},
   "outputs": [],
   "source": [
    "#print(len(test_data[test_data.bathrooms < 1]))\n",
    "#a = plt.hist([(train_data.price_per_ring), (test_data.price_per_ring)])\n",
    "\n",
    "#print(train_data[train_data.floor > train_data.stories])\n",
    "#print(test_data[test_data.ceiling < 1])\n",
    "\n",
    "#plt.scatter(train_data.price, train_data.constructed)\n",
    "\n",
    "\n",
    "#print(train_data[train_data.price > 2000000000])"
   ]
  },
  {
   "cell_type": "code",
   "execution_count": 20,
   "metadata": {},
   "outputs": [
    {
     "name": "stdout",
     "output_type": "stream",
     "text": [
      "   seller  area_total  area_kitchen  area_living  floor  rooms   ceiling  \\\n",
      "1     3.0        88.0          14.2         48.0   18.0    3.0  3.073400   \n",
      "2     3.0        78.5          22.5         40.8   12.0    3.0  2.650000   \n",
      "3     3.0        88.0          14.0         48.0   18.0    3.0  3.072361   \n",
      "5     3.0        36.0           5.8         21.6    1.0    2.0  2.650000   \n",
      "6     3.0        38.5           7.4         18.9   17.0    1.0  2.779206   \n",
      "\n",
      "   condition  building_id   district  ...  material  stories  parking  \\\n",
      "1        3.0         1893  12.226539  ...       3.0     25.0      1.0   \n",
      "2        1.0         5176  12.378552  ...       3.0     15.0      1.0   \n",
      "3        2.0         1893  12.226539  ...       3.0     25.0      1.0   \n",
      "5        1.0         4162  12.019032  ...       3.0      9.0      1.0   \n",
      "6        2.0         7737  11.837343  ...       3.0     17.0      1.0   \n",
      "\n",
      "   street_and_address  bathrooms  dist_from_city_center  \\\n",
      "1              9050.0        2.0               0.129713   \n",
      "2              4498.0        2.0               0.121183   \n",
      "3              9050.0        2.0               0.129713   \n",
      "5               312.0        1.0               0.209493   \n",
      "6              7362.0        1.0               0.293086   \n",
      "\n",
      "   balconies_and_loggias  relative_story       price  price_per_ring  \n",
      "1               1.000000        0.720000  10500000.0       12.277367  \n",
      "2               1.522926        0.800000   9019650.0       12.348462  \n",
      "3               1.000000        0.720000  10500000.0       12.277367  \n",
      "5               1.191639        0.111111   5464800.0       11.816420  \n",
      "6               1.000000        1.000000   7100000.0       12.002478  \n",
      "\n",
      "[5 rows x 21 columns]\n"
     ]
    }
   ],
   "source": [
    "print(x_train.head())\n",
    "\n",
    "x_train = x_train.drop([\"price\", \"building_id\"], axis = 1)\n",
    "x_val = x_val.drop([\"price\", \"building_id\"], axis = 1)\n",
    "\n",
    "\n",
    "x_train = np.asarray(x_train)\n",
    "x_val = np.asarray(x_val)\n",
    "y_train = np.asarray(y_train)\n",
    "y_val = np.asarray(y_val)"
   ]
  },
  {
   "cell_type": "code",
   "execution_count": 21,
   "metadata": {},
   "outputs": [
    {
     "name": "stdout",
     "output_type": "stream",
     "text": [
      "20956\n"
     ]
    }
   ],
   "source": [
    "from sklearn.model_selection import train_test_split\n",
    "from sklearn.model_selection import StratifiedKFold\n",
    "\n",
    "print(len(train_data))\n",
    "#x_train, x_val, y_train, y_val = train_test_split(train_data, y_train, train_size = 0.8, random_state = 1)#, stratify=np.log(y_train))\n",
    "y_train = np.log(y_train)\n",
    "\n",
    "#print(np.sum(y_train))\n",
    "#print(len(x_train))\n"
   ]
  },
  {
   "cell_type": "code",
   "execution_count": 22,
   "metadata": {},
   "outputs": [],
   "source": [
    "\n",
    "from sklearn.ensemble import RandomForestRegressor\n",
    "\n",
    "model2 = RandomForestRegressor(\n",
    "    n_estimators=100,\n",
    "    criterion='mse',\n",
    "    max_depth=None,\n",
    "#    min_samples_split=2,\n",
    "#    min_samples_leaf=2,\n",
    "    min_weight_fraction_leaf=0.0,\n",
    "    max_features='auto',\n",
    "    max_leaf_nodes=None,\n",
    "    min_impurity_decrease=0.0,\n",
    "    bootstrap=True,\n",
    "    oob_score=False,\n",
    "    n_jobs=None,\n",
    "    random_state=42,\n",
    "    verbose=0,\n",
    "    warm_start=False,\n",
    "    ccp_alpha=0.0,\n",
    "    max_samples=None\n",
    ")"
   ]
  },
  {
   "cell_type": "code",
   "execution_count": 23,
   "metadata": {},
   "outputs": [],
   "source": [
    "from sklearn.neighbors import KNeighborsRegressor\n",
    "from sklearn.linear_model import LogisticRegression, ElasticNet, RidgeCV\n",
    "from sklearn.ensemble import RandomForestRegressor, StackingRegressor, BaggingRegressor\n",
    "from sklearn.feature_selection import SelectFromModel\n",
    "from sklearn.compose import TransformedTargetRegressor\n",
    "from sklearn.preprocessing import QuantileTransformer\n",
    "\n",
    "from xgboost import XGBRegressor\n",
    "from catboost import CatBoostRegressor\n",
    "\n",
    "from lightgbm import LGBMRegressor\n",
    "\n",
    "\n",
    "model5 = LGBMRegressor(\n",
    "    num_leaves=25,\n",
    "    max_depth=50, \n",
    "    random_state=42, \n",
    "    silent=True, \n",
    "    metric='mse',\n",
    "    n_jobs=-2, \n",
    "    n_estimators=2000,\n",
    "    colsample_bytree=0.95,\n",
    "    subsample=0.9,\n",
    "    learning_rate=0.1\n",
    ")\n",
    "\n",
    "model_xgb = XGBRegressor(n_estimators=1500, max_depth=10, n_jobs=-2, booster='gbtree')\n",
    "\n",
    "model_cat = CatBoostRegressor(iterations=2000,  depth=7,  learning_rate=0.15, l2_leaf_reg=0.45, silent=True)\n",
    "\n",
    "#model_knn_256 = KNeighborsRegressor(n_neighbors=256)\n",
    "model_knn_512 = KNeighborsRegressor(n_neighbors=512)\n",
    "#model_knn_1024 = KNeighborsRegressor(n_neighbors=1024, p=1, n_jobs=-1)\n",
    "\n",
    "'''final_model = LGBMRegressor(\n",
    "    num_leaves=5,\n",
    "    max_depth=7, \n",
    "    random_state=42069, \n",
    "    silent=True, \n",
    "    metric='mse',\n",
    "    n_jobs=-2, \n",
    "    n_estimators=200,\n",
    "    colsample_bytree=1,\n",
    "    subsample=0.9,\n",
    "    learning_rate=0.05\n",
    ")'''\n",
    "final_model = RidgeCV()\n",
    "\n",
    "\n",
    "base_learners = [\n",
    "    ('xgb_tree', model_xgb),\n",
    "    (\"random_forest\", model2),\n",
    "    (\"lgbm\", model5),\n",
    "    # ('knn_256', model3),\n",
    "    #('knn_512', model_knn_512),\n",
    "    # ('knn_1024', model5),\n",
    "    ('catboost', model_cat)\n",
    "]\n",
    "\n",
    "stacking_model = StackingRegressor(estimators=base_learners, n_jobs=-2, final_estimator=final_model)\n"
   ]
  },
  {
   "cell_type": "code",
   "execution_count": 24,
   "metadata": {},
   "outputs": [],
   "source": [
    "stacking_model.fit(x_train, y_train)"
   ]
  },
  {
   "cell_type": "code",
   "execution_count": null,
   "metadata": {},
   "outputs": [
    {
     "name": "stdout",
     "output_type": "stream",
     "text": [
      "(2329, 19)\n",
      "tf.Tensor(0.1253192744371806, shape=(), dtype=float64)\n"
     ]
    }
   ],
   "source": [
    "\n",
    "print(x_val.shape)\n",
    "predictions_val = np.exp(stacking_model.predict(x_val))\n",
    "print(root_mean_squared_log_error(y_val, predictions_val))\n",
    "#importances = stacking_model.feature_importances_\n",
    "#forest_importances = pd.Series(importances, index=train_data.columns[0:19])\n",
    "\n",
    "#print(forest_importances)\n",
    "\n",
    "#fig, ax = plt.subplots()\n",
    "#forest_importances.plot.bar(ax=ax)\n",
    "#ax.set_title(\"MDI or Gini Importance\")\n",
    "#ax.set_ylabel(\"Mean decrease in impurity\")\n",
    "#fig.tight_layout()"
   ]
  },
  {
   "cell_type": "code",
   "execution_count": null,
   "metadata": {},
   "outputs": [],
   "source": [
    "test_data = test_data.drop(\"building_id\", axis = 1)\n",
    "\n",
    "prediction = stacking_model.predict(np.asarray(test_data))\n",
    "prediction = np.exp(prediction)\n",
    "submission = pd.DataFrame()\n",
    "submission['id'] = test_ids\n",
    "submission[\"price_prediction\"] = prediction\n",
    "submission.to_csv('simple_nn_submission.csv', index=False)"
   ]
  },
  {
   "cell_type": "code",
   "execution_count": null,
   "metadata": {},
   "outputs": [],
   "source": []
  }
 ],
 "metadata": {
  "interpreter": {
   "hash": "97a63f5922ec1ea0bf01cb7c580be27f4c1b943a141a40753814d28fe4acc317"
  },
  "kernelspec": {
   "display_name": "Python 3.7.2 64-bit",
   "name": "python3"
  },
  "language_info": {
   "codemirror_mode": {
    "name": "ipython",
    "version": 3
   },
   "file_extension": ".py",
   "mimetype": "text/x-python",
   "name": "python",
   "nbconvert_exporter": "python",
   "pygments_lexer": "ipython3",
   "version": "3.7.2"
  },
  "orig_nbformat": 4
 },
 "nbformat": 4,
 "nbformat_minor": 2
}
