{
 "cells": [
  {
   "cell_type": "code",
   "execution_count": 1,
   "metadata": {},
   "outputs": [],
   "source": [
    "import numpy as np\n",
    "import pandas as pd\n",
    "import matplotlib.pyplot as plt\n",
    "import seaborn as sns\n",
    "\n",
    "seed = np.random.seed(0)\n",
    "pd.options.mode.chained_assignment = None  # default='warn'\n",
    "pd.set_option('display.max_rows', 1000)"
   ]
  },
  {
   "cell_type": "code",
   "execution_count": 2,
   "metadata": {},
   "outputs": [
    {
     "name": "stdout",
     "output_type": "stream",
     "text": [
      "Amount of duplicates in training data:  465\n"
     ]
    }
   ],
   "source": [
    "train_data_apartments = pd.read_csv(\"data/apartments_train.csv\")\n",
    "train_data_buildings = pd.read_csv(\"data/buildings_train.csv\")\n",
    "\n",
    "train_data = pd.merge(train_data_apartments, train_data_buildings.set_index('id'), how='left', left_on='building_id', right_index=True)\n",
    "num_of_training_samples = train_data.shape[0]\n",
    "# Don't drop outliers, as it worsens submit performance\n",
    "y_train = (np.asarray(train_data.price))\n",
    "\n",
    "test_data_apartments = pd.read_csv(\"data/apartments_test.csv\")\n",
    "test_data_buildings = pd.read_csv(\"data/buildings_test.csv\")\n",
    "\n",
    "test_data = pd.merge(test_data_apartments, test_data_buildings.set_index('id'), how='left', left_on='building_id', right_index=True)\n",
    "test_ids = test_data.id\n",
    "\n",
    "train_data = train_data.drop(\"id\", axis = 1)\n",
    "test_data = test_data.drop(\"id\", axis = 1)\n",
    "\n",
    "metro_coordinates = pd.read_csv(\"data/metro.csv\")\n",
    "\n",
    "print(\"Amount of duplicates in training data: \", len(train_data[train_data.duplicated()]))\n"
   ]
  },
  {
   "cell_type": "code",
   "execution_count": 3,
   "metadata": {},
   "outputs": [
    {
     "name": "stdout",
     "output_type": "stream",
     "text": [
      "Amount of ceilings higher than 200m:  31\n",
      "Amount of ceilings between 25m and 200m:  8\n"
     ]
    },
    {
     "data": {
      "image/png": "[encoded data removed]",
      "text/plain": [
       "<Figure size 432x288 with 1 Axes>"
      ]
     },
     "metadata": {
      "needs_background": "light"
     },
     "output_type": "display_data"
    }
   ],
   "source": [
    "all_data = pd.concat([train_data, test_data])\n",
    "\n",
    "plt.plot(all_data.ceiling)\n",
    "print(\"Amount of ceilings higher than 200m: \", len(all_data.ceiling[all_data.ceiling >200]))\n",
    "print(\"Amount of ceilings between 25m and 200m: \", len(all_data.ceiling[(all_data.ceiling > 25) & (all_data.ceiling < 200)]))\n",
    "# Rescaling out of scale ceilings\n",
    "all_data.ceiling[all_data.ceiling > 200] = all_data.ceiling/100\n",
    "all_data.ceiling[(all_data.ceiling > 25) & (all_data.ceiling < 200)] = all_data.ceiling/10"
   ]
  },
  {
   "cell_type": "code",
   "execution_count": 4,
   "metadata": {},
   "outputs": [],
   "source": [
    "def haversine_array(lat1, lng1, lat2 = 55.75, lng2 = 37.6):\n",
    "    lat1, lng1, lat2, lng2 = map(np.radians, (lat1, lng1, lat2, lng2))\n",
    "    AVG_EARTH_RADIUS = 6371  # in km\n",
    "    lat = lat2 - lat1\n",
    "    lng = lng2 - lng1\n",
    "    d = np.sin(lat * 0.5) ** 2 + np.cos(lat1) * np.cos(lat2) * np.sin(lng * 0.5) ** 2\n",
    "    h = 2 * AVG_EARTH_RADIUS * np.arcsin(np.sqrt(d))\n",
    "    return h"
   ]
  },
  {
   "cell_type": "code",
   "execution_count": 5,
   "metadata": {},
   "outputs": [],
   "source": [
    "def euclid_dist_from_center(lat, long, lat2 = 55.75, long2 = 37.6):\n",
    "\n",
    "    return np.sqrt(np.power(np.abs(lat2 - lat), 2) + np.power(np.abs(long2 - long), 2))"
   ]
  },
  {
   "cell_type": "code",
   "execution_count": 6,
   "metadata": {},
   "outputs": [],
   "source": [
    "# Unifying street and address\n",
    "all_data[\"street_and_address\"] = all_data.street + \" \" + all_data.address\n",
    "# Adding shared and private bathrooms\n",
    "all_data[\"bathrooms\"] = all_data.bathrooms_shared  + all_data.bathrooms_private\n",
    "# Adding balconies and loggias\n",
    "all_data[\"balconies_and_loggias\"] = all_data.balconies + all_data.loggias\n",
    "\n",
    "# Imputing coordinates outside of moscow and NaNs\n",
    "\n",
    "#Бунинские Луга ЖК к2/2/1 = Ulitsa Aleksandry Monakhovoy, 97, coordinates: 55.5415152, 37.4821752\n",
    "# улица 1-я Линия 57, coordinates: 55.6324711, 37.4536057\n",
    "#улица Центральная 75 and 48, ESTIMATED coordinates: 55.750651,37.6083208\n",
    "# пос. Коммунарка Москва А101 ЖК. coordinates: 55.5676692, 37.4816608\n",
    "all_data.latitude[all_data.street_and_address == \"Бунинские Луга ЖК к2/2/1\"] = 55.5415152\n",
    "all_data.longitude[all_data.street_and_address == \"Бунинские Луга ЖК к2/2/1\"] = 37.4821752\n",
    "all_data.latitude[all_data.street_and_address == \"Бунинские Луга ЖК к2/2/2\"] = 55.5415152\n",
    "all_data.longitude[all_data.street_and_address == \"Бунинские Луга ЖК к2/2/2\"] = 37.4821752\n",
    "all_data.latitude[all_data.street_and_address == \"улица 1-я Линия 57\"] = 55.6324711\n",
    "all_data.longitude[all_data.street_and_address == \"улица 1-я Линия 57\"] = 37.4536057\n",
    "all_data.latitude[all_data.street_and_address == \"улица Центральная 75\"] = 55.5415152\n",
    "all_data.longitude[all_data.street_and_address == \"улица Центральная 75\"] = 37.4821752\n",
    "all_data.latitude[all_data.street_and_address == \"улица Центральная 48\"] = 55.5415152\n",
    "all_data.longitude[all_data.street_and_address == \"улица Центральная 48\"] = 37.4821752\n",
    "# NaNs\n",
    "all_data.latitude[all_data.street_and_address == \"пос. Коммунарка Москва А101 ЖК\"] = 55.5676692\n",
    "all_data.longitude[all_data.street_and_address == \"пос. Коммунарка Москва А101 ЖК\"] = 37.4816608\n",
    "\n",
    "\n",
    "\n",
    "# New feature: Euclidean distance from the city center\n",
    "all_data[\"dist_from_city_center\"] = haversine_array(all_data.latitude, all_data.longitude)\n",
    "all_data = all_data.drop([\"address\", \"street\", \"bathrooms_shared\", \"bathrooms_private\", \"balconies\", \"loggias\",\n",
    "\"windows_court\", \"windows_street\", \"elevator_service\", \"elevator_passenger\", \"garbage_chute\", \n",
    "\"layout\", \"parking\", \"heating\", \"elevator_without\", \"new\", \"building_id\"], axis = 1)\n",
    "\n"
   ]
  },
  {
   "cell_type": "code",
   "execution_count": 7,
   "metadata": {},
   "outputs": [
    {
     "name": "stdout",
     "output_type": "stream",
     "text": [
      "0        6\n",
      "1       13\n",
      "2       15\n",
      "3       13\n",
      "4        7\n",
      "        ..\n",
      "9932    19\n",
      "9933    39\n",
      "9934     3\n",
      "9935    36\n",
      "9936     0\n",
      "Name: metros_in_5km, Length: 33222, dtype: int32\n"
     ]
    }
   ],
   "source": [
    "broadcasted_lat = np.broadcast_to(np.expand_dims(np.asarray(all_data.latitude), axis = 1), (33222,268))\n",
    "broadcasted_long = np.broadcast_to(np.expand_dims(np.asarray(all_data.longitude), axis = 1), (33222,268))\n",
    "\n",
    "broadcasted_metro_lat = np.broadcast_to(np.expand_dims(np.asarray(metro_coordinates.latitude), axis=1).T, (33222,268))\n",
    "broadcasted_metro_long = np.broadcast_to(np.expand_dims(np.asarray(metro_coordinates.longitude), axis=1).T, (33222,268))\n",
    "\n",
    "#print(np.sum((haversine_array(broadcasted_lat, broadcasted_long, broadcasted_metro_lat, broadcasted_metro_long) <= 5), axis = 1))\n",
    "\n",
    "all_data[\"metros_in_5km\"] = np.sum((haversine_array(broadcasted_lat, broadcasted_long, broadcasted_metro_lat, broadcasted_metro_long) <= 5), axis = 1)\n",
    "print(all_data.metros_in_5km)"
   ]
  },
  {
   "cell_type": "code",
   "execution_count": 8,
   "metadata": {},
   "outputs": [],
   "source": [
    "#print(all_data.latitude[np.isnan(all_data.district)].values)\n",
    "#print((all_data.longitude[np.isnan(all_data.district)]).values)\n",
    "#print(all_data.groupby(\"district\").mean().longitude)\n",
    "#print(all_data.groupby(\"district\").mean().latitude)\n",
    "\n",
    "all_data.district[(all_data.latitude==55.59516) & (all_data.longitude==37.741109)] = 5.0\n",
    "all_data.district[(all_data.latitude==55.5676692) & (all_data.longitude==37.4816608)] = 11.0\n",
    "all_data.district[(all_data.latitude==55.921627) & (all_data.longitude==37.781578)] = 3.0\n",
    "all_data.district[(all_data.latitude==55.5415152) & (all_data.longitude==37.4821752)] = 11.0\n",
    "all_data.district[(all_data.latitude==55.6324711) & (all_data.longitude==37.4536057)] = 6.0\n",
    "all_data.district[(all_data.latitude==55.583551) & (all_data.longitude==37.711356)] = 5.0\n",
    "all_data.district[(all_data.latitude==55.932127) & (all_data.longitude==37.793705)] = 3.0"
   ]
  },
  {
   "cell_type": "code",
   "execution_count": 9,
   "metadata": {},
   "outputs": [
    {
     "name": "stdout",
     "output_type": "stream",
     "text": [
      "Amount of duplicates in all data:  768\n",
      "Amount of duplicates in all data without duplicates:  0\n"
     ]
    }
   ],
   "source": [
    "print(\"Amount of duplicates in all data: \", len(all_data[all_data.duplicated()]))\n",
    "# Drop dups from imputation data\n",
    "all_data_no_dups = all_data.drop(all_data[all_data.duplicated()].index, axis = 0)\n",
    "# Drop dups from training data\n",
    "print(\"Amount of duplicates in all data without duplicates: \", len(all_data_no_dups[all_data_no_dups.duplicated()]))"
   ]
  },
  {
   "cell_type": "markdown",
   "metadata": {},
   "source": []
  },
  {
   "cell_type": "markdown",
   "metadata": {},
   "source": [
    "Imputation"
   ]
  },
  {
   "cell_type": "code",
   "execution_count": 10,
   "metadata": {},
   "outputs": [],
   "source": [
    "import category_encoders as ce\n",
    "\n",
    "from sklearn.impute import SimpleImputer\n",
    "from sklearn.experimental import enable_iterative_imputer\n",
    "from sklearn.impute import IterativeImputer\n",
    "from sklearn.preprocessing import LabelEncoder\n",
    "\n",
    "categorical_columns = [\"seller\", \"condition\", \"material\", \"street_and_address\"]\n",
    "numerical_columns = [\"area_total\", \"area_living\", \"area_kitchen\", \"bathrooms\", \"floor\", \"rooms\", \"ceiling\", \"phones\", \"balconies_and_loggias\", \"constructed\", \"stories\"]\n",
    "boolean_columns = []\n",
    "# Encode string-addresses into integers\n",
    "string_encoder = LabelEncoder()\n",
    "all_data[\"street_and_address\"] = string_encoder.fit_transform(all_data.street_and_address)\n",
    "\n",
    "categorical_imputer = SimpleImputer(missing_values = np.nan, strategy = \"most_frequent\")\n",
    "categorical_imputer.fit(all_data_no_dups[categorical_columns])\n",
    "all_data[categorical_columns] = categorical_imputer.transform(all_data[categorical_columns])\n",
    "\n",
    "all_data.fillna(-999, inplace = True)\n"
   ]
  },
  {
   "cell_type": "code",
   "execution_count": 11,
   "metadata": {},
   "outputs": [
    {
     "name": "stdout",
     "output_type": "stream",
     "text": [
      "Amount of duplicates in train data:  510\n"
     ]
    }
   ],
   "source": [
    "train_data = all_data[0:num_of_training_samples]\n",
    "test_data = all_data[num_of_training_samples:len(all_data)]\n",
    "#print(test_data.head(100))\n",
    "\n",
    "print(\"Amount of duplicates in train data: \", len(train_data[train_data.duplicated()]))\n",
    "train_data = train_data.drop(train_data[train_data.duplicated()].index, axis = 0)\n",
    "\n",
    "price_per_district = train_data.groupby(\"district\").mean().price\n",
    "area_per_district = train_data.groupby(\"district\").mean().area_total\n",
    "\n",
    "train_data[\"price_per_sq_dist_cat\"], bins = pd.qcut(train_data.dist_from_city_center, q = 150, retbins = True)\n",
    "test_data[\"price_per_sq_dist_cat\"] = pd.cut(test_data.dist_from_city_center, bins = bins)\n",
    "\n",
    "price_per_dist = train_data.groupby(\"price_per_sq_dist_cat\").mean().price\n",
    "area_per_dist = train_data.groupby(\"price_per_sq_dist_cat\").mean().area_total\n",
    "\n",
    "a = np.log(price_per_district/area_per_district)\n",
    "b = np.log(price_per_dist/area_per_dist)\n",
    "\n",
    "train_data = pd.concat([train_data, pd.DataFrame(columns = [\"sqm_per_dist\"])], axis = 1)\n",
    "test_data = pd.concat([test_data, pd.DataFrame(columns = [\"sqm_per_dist\"])], axis = 1)\n",
    "\n",
    "train_data[\"district\"] = train_data[\"district\"].map(a).astype(float)\n",
    "test_data[\"district\"] = test_data[\"district\"].map(a).astype(float)\n",
    "\n",
    "train_data[\"sqm_per_dist\"] = train_data[\"price_per_sq_dist_cat\"].map(b).astype(float)\n",
    "test_data[\"sqm_per_dist\"] = test_data[\"price_per_sq_dist_cat\"].map(b).astype(float)\n",
    "\n",
    "train_data = train_data.drop(\"price_per_sq_dist_cat\", axis = 1)\n",
    "test_data = test_data.drop(\"price_per_sq_dist_cat\", axis = 1)"
   ]
  },
  {
   "cell_type": "code",
   "execution_count": 12,
   "metadata": {},
   "outputs": [],
   "source": [
    "train_data.area_total = np.log1p(train_data.area_total)\n",
    "test_data.area_total = np.log1p(test_data.area_total)"
   ]
  },
  {
   "cell_type": "code",
   "execution_count": 13,
   "metadata": {},
   "outputs": [
    {
     "name": "stdout",
     "output_type": "stream",
     "text": [
      "83\n",
      "0\n",
      "83\n",
      "0\n"
     ]
    }
   ],
   "source": [
    "print(len(test_data.sqm_per_dist[(np.isnan(test_data.sqm_per_dist)) & (test_data.dist_from_city_center < b.index[0].right)]))\n",
    "print(len(test_data.sqm_per_dist[(np.isnan(test_data.sqm_per_dist)) & (test_data.dist_from_city_center > b.index[len(b)-1].left)]))\n",
    "\n",
    "\n",
    "print(len(test_data.sqm_per_dist[(np.isnan(test_data.sqm_per_dist)) & (test_data.dist_from_city_center < b.index[0].right)]))\n",
    "print(len(test_data.sqm_per_dist[(np.isnan(test_data.sqm_per_dist)) & (test_data.dist_from_city_center > b.index[len(b)-1].left)]))\n",
    "\n",
    "test_data.district[(np.isnan(test_data.district)) & (test_data.district < a[0])] = a[0]\n",
    "test_data.district[(np.isnan(test_data.district)) & (test_data.district > a[len(a)-1])] = a[len(a)-1]\n",
    "\n",
    "test_data.sqm_per_dist[(np.isnan(test_data.sqm_per_dist)) & (test_data.dist_from_city_center < b.index[0].right)] = b[0]\n",
    "test_data.sqm_per_dist[(np.isnan(test_data.sqm_per_dist)) & (test_data.dist_from_city_center > b.index[len(b)-1].left)] = b[len(b)-1]\n",
    "\n"
   ]
  },
  {
   "cell_type": "code",
   "execution_count": 14,
   "metadata": {},
   "outputs": [],
   "source": [
    "y_train = train_data.price\n",
    "x_train = train_data.drop(\"price\", axis = 1)\n",
    "test_data = test_data.drop(\"price\", axis = 1)\n",
    "\n",
    "x_train = np.asarray(x_train)\n",
    "y_train = np.asarray(y_train)\n",
    "test_data = np.asarray(test_data)"
   ]
  },
  {
   "cell_type": "code",
   "execution_count": 15,
   "metadata": {},
   "outputs": [],
   "source": [
    "from tensorflow.keras.losses import mean_squared_logarithmic_error\n",
    "from tensorflow.keras.backend import sqrt\n",
    "\n",
    "def root_mean_squared_log_error(y_true, y_pred):\n",
    "    return sqrt(mean_squared_logarithmic_error(y_true, y_pred))"
   ]
  },
  {
   "cell_type": "code",
   "execution_count": 16,
   "metadata": {},
   "outputs": [],
   "source": [
    "\n",
    "from sklearn.ensemble import RandomForestRegressor\n",
    "\n",
    "model2 = RandomForestRegressor(\n",
    "    n_estimators=100,\n",
    "    criterion='mse',\n",
    "    max_depth=None,\n",
    "#    min_samples_split=2,\n",
    "#    min_samples_leaf=2,\n",
    "    min_weight_fraction_leaf=0.0,\n",
    "    max_features='auto',\n",
    "    max_leaf_nodes=None,\n",
    "    min_impurity_decrease=0.0,\n",
    "    bootstrap=True,\n",
    "    oob_score=False,\n",
    "    n_jobs=None,\n",
    "    random_state=42,\n",
    "    verbose=0,\n",
    "    warm_start=False,\n",
    "    ccp_alpha=0.0,\n",
    "    max_samples=None\n",
    ")"
   ]
  },
  {
   "cell_type": "code",
   "execution_count": 17,
   "metadata": {},
   "outputs": [],
   "source": [
    "from sklearn.neighbors import KNeighborsRegressor\n",
    "from sklearn.linear_model import LogisticRegression, ElasticNet, RidgeCV, Lasso\n",
    "from sklearn.kernel_ridge import KernelRidge\n",
    "from sklearn.ensemble import RandomForestRegressor, StackingRegressor, BaggingRegressor\n",
    "from sklearn.feature_selection import SelectFromModel\n",
    "from sklearn.compose import TransformedTargetRegressor\n",
    "from sklearn.preprocessing import QuantileTransformer\n",
    "from sklearn.preprocessing import RobustScaler\n",
    "from sklearn.tree import DecisionTreeClassifier\n",
    "from sklearn.pipeline import make_pipeline\n",
    "\n",
    "from xgboost import XGBRegressor\n",
    "from catboost import CatBoostRegressor\n",
    "\n",
    "from lightgbm import LGBMRegressor\n",
    "\n",
    "\n",
    "model5 = LGBMRegressor(\n",
    "    objective=\"regression\",\n",
    "    num_leaves=32,\n",
    "    max_depth=5, \n",
    "    random_state=42, \n",
    "    metric='mse',\n",
    "    n_jobs=-2, \n",
    "    n_estimators=5000,\n",
    "    colsample_bytree=0.7,\n",
    "    subsample=0.7,\n",
    "    verbose = -1\n",
    ")\n",
    "\n",
    "model_xgb_1 = XGBRegressor(\n",
    "    n_estimators=1500,\n",
    "    max_depth=5,\n",
    "    n_jobs=-2,\n",
    "    booster='gbtree',\n",
    "    enable_categorical = True,\n",
    "    colsample_bytree=0.7,\n",
    "    subsample=0.7,\n",
    "    learning_rate = 0.1,\n",
    "    random_state=42069\n",
    ")\n",
    "\n",
    "model_cat_1 = CatBoostRegressor(\n",
    "    iterations=2000,\n",
    "    depth = 7,\n",
    "    learning_rate=0.1,\n",
    "    l2_leaf_reg=0.45,\n",
    "    silent=True,\n",
    "    random_seed = 42069\n",
    ")\n",
    "\n",
    "final_model = RidgeCV()\n",
    "\n",
    "\n",
    "base_learners = [\n",
    "    ('xgb_tree', model_xgb_1),\n",
    "    #(\"random_forest\", model2),\n",
    "    (\"lgbm\", model5),\n",
    "    # ('knn_256', model3),\n",
    "    #('knn_512', model_knn_512),\n",
    "    # ('knn_1024', model5),\n",
    "    ('catboost', model_cat_1),\n",
    "]\n",
    "\n",
    "stacking_model = StackingRegressor(estimators=base_learners, n_jobs=-2, final_estimator=final_model, cv = 5, verbose = 1)\n"
   ]
  },
  {
   "cell_type": "code",
   "execution_count": 18,
   "metadata": {},
   "outputs": [
    {
     "name": "stdout",
     "output_type": "stream",
     "text": [
      "TRAIN: [    0     1     2 ... 22772 22773 22774] TEST: [   10    14    15 ... 22764 22769 22770]\n",
      "Error:  tf.Tensor(0.1218908267105606, shape=(), dtype=float64)\n",
      "TRAIN: [    0     1     3 ... 22771 22773 22774] TEST: [    2     5     6 ... 22752 22767 22772]\n"
     ]
    }
   ],
   "source": [
    "from sklearn.model_selection import KFold\n",
    "i = 0\n",
    "models = []\n",
    "errors = []\n",
    "predictions_test = []\n",
    "kf = KFold(random_state = 42069, shuffle = True)\n",
    "for train_index, test_index in kf.split(x_train):\n",
    "    print(\"TRAIN:\", train_index, \"TEST:\", test_index)\n",
    "    x_train_fold, x_test_fold = x_train[train_index], x_train[test_index]\n",
    "    y_train_fold, y_test_fold = y_train[train_index], y_train[test_index]\n",
    "    current_model = stacking_model.fit(x_train_fold, np.log(y_train_fold))\n",
    "    models.append(current_model)\n",
    "    predictions_val = np.exp(stacking_model.predict(x_test_fold))\n",
    "    errors.append(root_mean_squared_log_error(y_test_fold, predictions_val))\n",
    "\n",
    "    predictions_test.append(np.exp(stacking_model.predict(test_data)))\n",
    "\n",
    "    print(\"Error: \", root_mean_squared_log_error(y_test_fold, predictions_val))\n",
    "print(\"Mean error: \", np.mean(errors))"
   ]
  },
  {
   "cell_type": "code",
   "execution_count": null,
   "metadata": {},
   "outputs": [
    {
     "name": "stdout",
     "output_type": "stream",
     "text": [
      "[array([30100964.5585079 ,  9299808.25180861,  6183285.82176589, ...,\n",
      "        9564215.00347241,  9470641.29453873,  6118126.45317173]), array([31008178.05931112,  9602708.56762006,  6196128.37217469, ...,\n",
      "        9697073.01529679,  9792083.50368488,  5935828.92918098]), array([31497212.02341629,  9503246.88518952,  6205689.58530221, ...,\n",
      "        9164684.69903585, 10009487.13786568,  6749335.82164923]), array([31410627.46421756,  9297378.38472123,  6180489.84156825, ...,\n",
      "        9168052.53048579,  9934750.27394835,  6405823.02005518]), array([32739957.23017579,  9723985.40725389,  6188402.31604073, ...,\n",
      "        9478350.85706558,  9312227.12294799,  6427531.0582105 ])]\n",
      "[31351387.86712574  9485425.49931866  6190799.18737035 ...\n",
      "  9414475.22107128  9703837.86659713  6327329.05645352]\n"
     ]
    }
   ],
   "source": [
    "print(predictions_test)\n",
    "prediction = np.mean(predictions_test, axis = 0)\n",
    "print(prediction)\n",
    "submission = pd.DataFrame()\n",
    "submission['id'] = test_ids\n",
    "submission[\"price_prediction\"] = prediction\n",
    "submission.to_csv('simple_nn_submission.csv', index=False)"
   ]
  }
 ],
 "metadata": {
  "interpreter": {
   "hash": "97a63f5922ec1ea0bf01cb7c580be27f4c1b943a141a40753814d28fe4acc317"
  },
  "kernelspec": {
   "display_name": "Python 3.7.2 64-bit",
   "name": "python3"
  },
  "language_info": {
   "codemirror_mode": {
    "name": "ipython",
    "version": 3
   },
   "file_extension": ".py",
   "mimetype": "text/x-python",
   "name": "python",
   "nbconvert_exporter": "python",
   "pygments_lexer": "ipython3",
   "version": "3.7.2"
  },
  "orig_nbformat": 4
 },
 "nbformat": 4,
 "nbformat_minor": 2
}
